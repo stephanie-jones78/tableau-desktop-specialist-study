{
 "cells": [
  {
   "cell_type": "markdown",
   "id": "834af534",
   "metadata": {},
   "source": [
    "# Tableau Desktop Specialist Exam | Study Notebook\n",
    "Important Info | Click [here](https://mail.google.com/mail/u/1/#inbox/FMfcgzGrbRTMDzFxvfCfnhjSFqkBKtlV) for registration links\n",
    ":-- | :--\n",
    "Exam Date | Sunday, December 25, 2022\n",
    "Exam Time | 3:30p CT ***log in 30 minutes prior***\n",
    "Requirements | Driver's License\n",
    "Exam Info | [link](https://www.tableau.com/learn/certification/desktop-specialist)\n",
    "Study Guide | [link](https://mkt.tableau.com/files/TableauDesktopSpecialist_ExamGuide.pdf)\n",
    "\n",
    "## Study Resources\n",
    "Resource | Description\n",
    ":-- | :--\n",
    "O Reilly, Training Video | 5hr Course, *free 10 day trial* [link](https://learning.oreilly.com/videos/learn-tableau-and/9781801076364/)\n",
    "Advanced Tableau Course | [Udemy Course](https://www.udemy.com/course/advanced-tableau-for-bi/) *11hrs of video, great for understanding at more conceptual depth*\n",
    "SQL Belle Study Prep, Playlist | [YouTube](https://www.youtube.com/playlist?list=PLkZ_g9Y7eszJAm-ZbUT7jnldrl-uF-bWe), *optional but good supplemental info and practice applying*"
   ]
  },
  {
   "cell_type": "markdown",
   "id": "5c3548f4",
   "metadata": {},
   "source": [
    "## [Study Guide](https://mkt.tableau.com/files/TableauDesktopSpecialist_ExamGuide.pdf) Notes\n",
    "### Exam Structure\n",
    "Exam Item | Detail\n",
    ":-- | :--\n",
    "Time | 60 minutes\n",
    "Questions | 45, *5 are not scored*\n",
    "Passing Score | 750 (scale, 100 - 1000)\n",
    "\n",
    "### Comments\n",
    "Feedback from exam item comments are considered when exam performance is reviewed. ***Leave comments, when possible.***\n",
    "\n",
    "### Content\n",
    "Domain | Title | % of Exam Content\n",
    ":-- | :-- | :--\n",
    "Domain 1 | Connecting to & Preparing Data | 25%\n",
    "**Domain 2** | **Exploring & Analyzing Data** | **35%**\n",
    "Domain 3 | Sharing Insights | 25%\n",
    "Domain 4 | Understanding Tableau Concepts | 15%"
   ]
  },
  {
   "cell_type": "markdown",
   "id": "4ce1a92e",
   "metadata": {},
   "source": [
    "## Notes\n",
    "- Discrete fields create a `label`, continuous fields create `axis`"
   ]
  },
  {
   "cell_type": "markdown",
   "id": "e36c7a20",
   "metadata": {},
   "source": [
    "### Data Files\n",
    "File Type | Description | Original Data | Calculations and Formatting | Workbook Views\n",
    ":-- | :-- | -:- | -:- | -:-\n",
    "Tableau Data Extract, *Tableau 10.5 and previous* | `.tde` | ✅\n",
    "Hyper File, *post Tableau 10.5* fast, high performance extract file | `.hyper` | ✅\n",
    "Tableau Data Source | `.tds` | | ✅ | \n",
    "Tableau Packaged Data Source | `.tdsx` | ✅ | ✅ \n",
    "Tableau Workbook | `.twb` | | ✅ | ✅\n",
    "Tableau Packaged Workbook | `.twbx` | ✅ | ✅ | ✅ "
   ]
  },
  {
   "cell_type": "code",
   "execution_count": null,
   "id": "6f73f08e",
   "metadata": {},
   "outputs": [],
   "source": []
  }
 ],
 "metadata": {
  "kernelspec": {
   "display_name": "Python 3",
   "language": "python",
   "name": "python3"
  },
  "language_info": {
   "codemirror_mode": {
    "name": "ipython",
    "version": 3
   },
   "file_extension": ".py",
   "mimetype": "text/x-python",
   "name": "python",
   "nbconvert_exporter": "python",
   "pygments_lexer": "ipython3",
   "version": "3.8.8"
  }
 },
 "nbformat": 4,
 "nbformat_minor": 5
}
